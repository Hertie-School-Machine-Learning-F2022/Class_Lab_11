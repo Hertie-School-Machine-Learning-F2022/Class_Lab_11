{
  "nbformat": 4,
  "nbformat_minor": 0,
  "metadata": {
    "colab": {
      "provenance": [],
      "authorship_tag": "ABX9TyMgtWKbZkVjN9KJCzwVsNrE",
      "include_colab_link": true
    },
    "kernelspec": {
      "name": "python3",
      "display_name": "Python 3"
    },
    "language_info": {
      "name": "python"
    }
  },
  "cells": [
    {
      "cell_type": "markdown",
      "metadata": {
        "id": "view-in-github",
        "colab_type": "text"
      },
      "source": [
        "<a href=\"https://colab.research.google.com/github/Hertie-School-Machine-Learning-F2022/Class_Lab_11/blob/main/Class_Lab_11_GRAD_C24_fall_2022.ipynb\" target=\"_parent\"><img src=\"https://colab.research.google.com/assets/colab-badge.svg\" alt=\"Open In Colab\"/></a>"
      ]
    },
    {
      "cell_type": "markdown",
      "source": [
        "# Multiple Testing! 🥳 "
      ],
      "metadata": {
        "id": "pZHaXf9sJAts"
      }
    },
    {
      "cell_type": "markdown",
      "source": [
        "P-values\n",
        "\n"
      ],
      "metadata": {
        "id": "dpH3OGQDrnE2"
      }
    },
    {
      "cell_type": "code",
      "source": [
        "import pandas as pd\n",
        "import numpy as np \n",
        "import matplotlib.pyplot as plt\n",
        "%matplotlib inline\n",
        "\n",
        "# Import Facebook data from UC Davis database\n",
        "data = pd.read_csv('dataset_Facebook.csv', delimiter = ';')"
      ],
      "metadata": {
        "id": "vKfjWrtNCSxR"
      },
      "execution_count": null,
      "outputs": []
    },
    {
      "cell_type": "code",
      "source": [
        "# Code from https://codingdisciple.com/bootstrap-hypothesis-testing.html\n",
        "\n",
        "import seaborn as sns\n",
        "\n",
        "#Boolean filtering/remove missing values\n",
        "\n",
        "#Figure settings\n",
        "  \n",
        "\n",
        "#Plot top histogram\n",
        "\n",
        "\n",
        "#Plot bottom histogram\n"
      ],
      "metadata": {
        "id": "iRc9Np30CwFk"
      },
      "execution_count": null,
      "outputs": []
    },
    {
      "cell_type": "markdown",
      "source": [
        "# Let's sample confidence intervals "
      ],
      "metadata": {
        "id": "j4cxUVKDE6Fv"
      }
    },
    {
      "cell_type": "code",
      "source": [
        "# Resample\n"
      ],
      "metadata": {
        "id": "VQOYKRHfDE2g"
      },
      "execution_count": null,
      "outputs": []
    },
    {
      "cell_type": "code",
      "source": [
        "# Calculate the mean of every permutation \n",
        "\n",
        "# Plot the 95% confidence intervals \n"
      ],
      "metadata": {
        "id": "uZyE2nGaFIF8"
      },
      "execution_count": null,
      "outputs": []
    },
    {
      "cell_type": "markdown",
      "source": [
        "The area withitin the boundries of the red lines is our 95% confidence limit."
      ],
      "metadata": {
        "id": "maXzPvKOGmHG"
      }
    },
    {
      "cell_type": "code",
      "source": [
        "# Let's do some math though\n",
        "\n",
        "print('is', 0.05 * len(data), 'an acceptable number?')\n",
        "\n",
        "# That's how many false positive's we are willing to accept. \n",
        "\n",
        "# But what if we had more data (after all this is the big data world right?)\n",
        "\n",
        "print('what about', 0.05 * (len(data)*1000), '?')\n",
        "\n",
        "print('or', 0.05 * (len(data)*1000000), '?')"
      ],
      "metadata": {
        "id": "-v7oBZbcFRv4"
      },
      "execution_count": null,
      "outputs": []
    },
    {
      "cell_type": "markdown",
      "source": [
        "We can see the problem of multiple testing now. \n",
        "\n",
        "Specially when we are dealing with big data. \n",
        "\n",
        "Imagine that we are buidling a model that detects child pornography for youtube, if our false positive rate is at 5% how many videos would get classified incorrectly? \n",
        "\n",
        "We need a better measure 🤔"
      ],
      "metadata": {
        "id": "NWcaW2-4HUdA"
      }
    },
    {
      "cell_type": "markdown",
      "source": [
        "## False Discovery Rate (FDR)\n",
        "\n",
        "From https://matthew-brett.github.io/teaching/fdr.html\n",
        "\n",
        "Control the number of tests falsely declared significant as a proportion of the number of all tests declared significant (False positives). \n",
        "\n",
        "Find a p-value threshold θ that can distinguish true positive tests from true negatives. P-values that are less than or equal to θ are **detections** and θ is a **detection threshold**."
      ],
      "metadata": {
        "id": "hGaEKXy0rqNl"
      }
    },
    {
      "cell_type": "markdown",
      "source": [
        "Imagine we have 𝑁 tests. \n",
        "\n",
        "\n",
        "We choose to look at one of those tests, 𝑖 and select a p-value,\n",
        "θ = 𝑝(𝑖).\n",
        "\n",
        "The expected number of false positives in 𝑁 tests at this threshold is:\n",
        "𝐸(𝐹𝑃) = 𝑁𝑝(𝑖) "
      ],
      "metadata": {
        "id": "-AMS1EczvJFB"
      }
    },
    {
      "cell_type": "code",
      "source": [
        "# If we had 100 tests, and the p-value is 0.1 the expected number of false\n",
        "# positive detection is 0.1 or 10% of our tests. (10 out of 100)\n",
        "\n",
        "import scipy.stats as sst\n",
        "\n",
        "\n",
        "# Turn z-values into p-values \n",
        "# loc is the mean, scale is the variance\n",
        "\n",
        "\n",
        "# The normal Cumulative Distribution Function\n",
        "\n",
        "\n"
      ],
      "metadata": {
        "id": "pqplloUvrwW9"
      },
      "execution_count": null,
      "outputs": []
    },
    {
      "cell_type": "markdown",
      "source": [
        "The purpose is to find a p-value threshold with a small proportion of false positives. \n",
        "\n",
        "We might be okay with a value such that 5% of all the discoveries are likely to be false positives. \n",
        "\n",
        "if, \n",
        "𝑑 = number of discoveries at threshold θ. \n",
        "𝑞 = proportion of flase positives we accept. \n",
        "\n",
        "Then we want a threshold:\n",
        "θ in a way that 𝐸(𝐹𝑃)/𝑑 < 𝑞 \n",
        "\n",
        "Or, we want a threshold where the numbner of expected false positives in our discoveries is smaller than than proportion we set for ourselves. "
      ],
      "metadata": {
        "id": "EfCKOByV1UZT"
      }
    },
    {
      "cell_type": "code",
      "source": [
        "# After having ordered the p values, for any i, if we set a threshold at \n",
        "# theta is equal or less than certain p(i) we will ahave i detections (d = i).\n",
        "\n",
        "# So we look for the largest p(i) such that E(FP)/i is smaller than q. \n",
        "\n",
        "# Let’s take q = 0.05.\n",
        "# We plot qi/N (in red) on the same graph as p(i) (in blue):\n",
        "\n"
      ],
      "metadata": {
        "id": "zMqeXbEL3P94"
      },
      "execution_count": null,
      "outputs": []
    },
    {
      "cell_type": "markdown",
      "source": [
        "The red line is the acceptable number of false positives 𝑞𝑖 as a proportion of all the tests 𝑁.\n",
        "\n",
        "So as we increase the qi/N we accept a larger number of false positives.\n",
        "\n",
        "For example, for 𝑖=1, the acceptable number of false positives 𝑞∗𝑖 is 0.05∗1, but at 𝑖=50, the acceptable number of expected false positives 𝑞∗𝑖 is 0.05∗50=2.5.\n",
        "\n"
      ],
      "metadata": {
        "id": "Q5QlZXQ666J8"
      }
    },
    {
      "cell_type": "markdown",
      "source": [
        "Know let's think about real life cases where there is noise. \n",
        "\n",
        "Some cases we will find a p-value that are smaller than expected on the null hypothesis, which means that the p-value line will begin below the diagonal on the ordered plot. "
      ],
      "metadata": {
        "id": "AAGphBiu-j7q"
      }
    },
    {
      "cell_type": "code",
      "source": [
        "# Let's observe a high density of low p-values\n",
        "\n",
        "\n",
        "\n",
        "\n",
        "# Add a low z score\n",
        "\n",
        "\n",
        "\n",
        "# plot\n"
      ],
      "metadata": {
        "id": "4KLbUp24_zmc"
      },
      "execution_count": null,
      "outputs": []
    },
    {
      "cell_type": "code",
      "source": [
        "# Let's zoom in!! \n"
      ],
      "metadata": {
        "id": "DpinJtYxCe79"
      },
      "execution_count": null,
      "outputs": []
    },
    {
      "cell_type": "code",
      "source": [
        "# Which value of p(i) is the biggest one before it crosses the red line? \n",
        "\n"
      ],
      "metadata": {
        "id": "yVX_hr5mEjfc"
      },
      "execution_count": null,
      "outputs": []
    },
    {
      "cell_type": "markdown",
      "source": [
        "We see that with a noisy signal, the FDR adapts to the presence of the signal. \n",
        "\n",
        "As the FDR threshold becomes less stringent, the number of detections increases, and the expected number of false positive detections increases, because the FDR control the proportion of false positives in the detections. In our case, the expected number of false positives in the detection sis qi = 0.05 * 9 = 0.45, or we have a 45% chance of seeing a false positive among the detected positive tests. \n",
        "\n"
      ],
      "metadata": {
        "id": "ZT0k4HOgHK0d"
      }
    },
    {
      "cell_type": "markdown",
      "source": [
        "How can we translate this for machine learning? \n",
        "\n",
        "## ROC Curve and DET\n",
        "\n",
        "code from https://scikit-learn.org/stable/auto_examples/model_selection/plot_det.html#sphx-glr-auto-examples-model-selection-plot-det-py"
      ],
      "metadata": {
        "id": "eiR8tAj3M_lY"
      }
    },
    {
      "cell_type": "code",
      "source": [
        "# Let's use the facebook data again\n",
        "\n"
      ],
      "metadata": {
        "id": "rg-fKCO_XR__"
      },
      "execution_count": null,
      "outputs": []
    },
    {
      "cell_type": "code",
      "source": [
        "# Set classifiers and splits \n",
        "\n",
        "from sklearn.datasets import make_classification\n",
        "from sklearn.ensemble import RandomForestClassifier\n",
        "from sklearn.metrics import DetCurveDisplay, RocCurveDisplay\n",
        "from sklearn.model_selection import train_test_split\n",
        "from sklearn.pipeline import make_pipeline\n",
        "from sklearn.preprocessing import StandardScaler\n",
        "from sklearn.svm import LinearSVC\n",
        "\n",
        "\n"
      ],
      "metadata": {
        "id": "IrxIHv40IF7X"
      },
      "execution_count": null,
      "outputs": []
    },
    {
      "cell_type": "code",
      "source": [
        "# Plot a ROC \n"
      ],
      "metadata": {
        "id": "81UNxb9_d_NP"
      },
      "execution_count": null,
      "outputs": []
    },
    {
      "cell_type": "code",
      "source": [
        "# Plot DET\n",
        "\n"
      ],
      "metadata": {
        "id": "fW_IYYQie5Qm"
      },
      "execution_count": null,
      "outputs": []
    }
  ]
}